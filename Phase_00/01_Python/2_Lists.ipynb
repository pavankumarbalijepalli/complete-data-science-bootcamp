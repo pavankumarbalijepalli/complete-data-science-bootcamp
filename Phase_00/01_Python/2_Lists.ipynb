{
 "cells": [
  {
   "cell_type": "markdown",
   "id": "dcb6a531-13f4-40c7-b1cc-3c26ea4c9c22",
   "metadata": {},
   "source": [
    "__We have seen few mathematical operations on the variables where we store our data. How let us see a new way of storing data, using `lists`.__"
   ]
  },
  {
   "cell_type": "markdown",
   "id": "b9dc742a-04bd-4698-8f96-4f1ee2787617",
   "metadata": {},
   "source": [
    "Even though a `list` is a type of data, it is better to call it a `data structure` instead of `data type`. This is because we are storing the same data in a new structure. "
   ]
  },
  {
   "cell_type": "code",
   "execution_count": 1,
   "id": "eeecc671-bac9-424d-a67f-94d9e4c22065",
   "metadata": {},
   "outputs": [],
   "source": [
    "# Let us create various students to store their names\n",
    "student_1 = 'Pavan'\n",
    "student_2 = 'Akhila'\n",
    "student_3 = 'Praveen'\n",
    "student_4 = 'Krishna'"
   ]
  },
  {
   "cell_type": "markdown",
   "id": "7fc8dddc-c4cc-42a8-b109-c5b99bb813da",
   "metadata": {},
   "source": [
    "__This is not a correct way of creating student names because if the `number of students` increase, we cannot accommodate for them.__\n",
    "\n",
    "So, how to we accommodate space for student names, when we don't know how many students are present. We use the data structure called `list`."
   ]
  },
  {
   "cell_type": "code",
   "execution_count": 2,
   "id": "885ad32e-e6f3-4216-aee6-349b899332f0",
   "metadata": {},
   "outputs": [],
   "source": [
    "students = ['Pavan', 'Akhila', 'Praveen', 'Krishna']"
   ]
  },
  {
   "cell_type": "code",
   "execution_count": 3,
   "id": "5b2a500d-1f22-4cb4-b896-4aeedc442cd5",
   "metadata": {},
   "outputs": [
    {
     "data": {
      "text/plain": [
       "['Pavan', 'Akhila', 'Praveen', 'Krishna', 'Linus']"
      ]
     },
     "execution_count": 3,
     "metadata": {},
     "output_type": "execute_result"
    }
   ],
   "source": [
    "# if we want to add the new person to the list, after it is created.\n",
    "students.append('Linus')\n",
    "students"
   ]
  },
  {
   "cell_type": "code",
   "execution_count": 4,
   "id": "cbcc0a43-c97f-44d2-8785-4277a3bac9ef",
   "metadata": {},
   "outputs": [
    {
     "data": {
      "text/plain": [
       "5"
      ]
     },
     "execution_count": 4,
     "metadata": {},
     "output_type": "execute_result"
    }
   ],
   "source": [
    "# Finding number of values in a list\n",
    "len(students)"
   ]
  },
  {
   "cell_type": "code",
   "execution_count": 5,
   "id": "683324fc-9578-47cc-a42d-2461a7da5b85",
   "metadata": {},
   "outputs": [
    {
     "data": {
      "text/plain": [
       "['Pavan', 'Akhila', 'Praveen', 'Krishna', 'Linus', 11, True]"
      ]
     },
     "execution_count": 5,
     "metadata": {},
     "output_type": "execute_result"
    }
   ],
   "source": [
    "# Adding a number in string list.\n",
    "students.append(11)\n",
    "students.append(True)\n",
    "students\n",
    "\n",
    "# This is accepted in the list. A value of any datatype can be added together in the same list."
   ]
  },
  {
   "cell_type": "code",
   "execution_count": 6,
   "id": "a2cc8fd6-7280-4435-8ecb-bd4a85c807c0",
   "metadata": {},
   "outputs": [
    {
     "data": {
      "text/plain": [
       "'Pavan'"
      ]
     },
     "execution_count": 6,
     "metadata": {},
     "output_type": "execute_result"
    }
   ],
   "source": [
    "# Getting the first element from the list\n",
    "students[0]"
   ]
  },
  {
   "cell_type": "code",
   "execution_count": 7,
   "id": "49357f8e-30a9-4faa-b894-63444e2f9d21",
   "metadata": {},
   "outputs": [
    {
     "data": {
      "text/plain": [
       "'Akhila'"
      ]
     },
     "execution_count": 7,
     "metadata": {},
     "output_type": "execute_result"
    }
   ],
   "source": [
    "# This is a new thing to remember. In python, the numbers start from `0`. That way `1` will give you the 2nd element in the list.\n",
    "students[1]"
   ]
  },
  {
   "cell_type": "code",
   "execution_count": 8,
   "id": "af3dd882-a81e-4e8f-ae8f-7988d9df593b",
   "metadata": {},
   "outputs": [
    {
     "data": {
      "text/plain": [
       "True"
      ]
     },
     "execution_count": 8,
     "metadata": {},
     "output_type": "execute_result"
    }
   ],
   "source": [
    "# Getting the last element from the list\n",
    "students[-1]"
   ]
  },
  {
   "cell_type": "code",
   "execution_count": 9,
   "id": "43081f5b-3e58-460e-8095-0ae72fa85bf8",
   "metadata": {},
   "outputs": [
    {
     "data": {
      "text/plain": [
       "11"
      ]
     },
     "execution_count": 9,
     "metadata": {},
     "output_type": "execute_result"
    }
   ],
   "source": [
    "# This represents removing 1 from the length of the list. So instead of getting the length and adding -1 to it, we just give [-1] to the list.\n",
    "# Works for [-2], [-3]...\n",
    "students[-2]"
   ]
  },
  {
   "cell_type": "code",
   "execution_count": 10,
   "id": "93d4cbe3-a161-4559-8409-3986d14333f2",
   "metadata": {},
   "outputs": [
    {
     "data": {
      "text/plain": [
       "['Pavan', 'Akhila', 'Praveen', 'Krishna']"
      ]
     },
     "execution_count": 10,
     "metadata": {},
     "output_type": "execute_result"
    }
   ],
   "source": [
    "# Getting first 4 names\n",
    "students[0:4]"
   ]
  },
  {
   "cell_type": "code",
   "execution_count": 11,
   "id": "e50f5fa5-dbda-4733-a6d8-e562e017a27f",
   "metadata": {},
   "outputs": [
    {
     "data": {
      "text/plain": [
       "['Akhila', 'Praveen', 'Krishna']"
      ]
     },
     "execution_count": 11,
     "metadata": {},
     "output_type": "execute_result"
    }
   ],
   "source": [
    "# The operator `:` means everything. Value on left of `:` is starting_point, and value of right of `:` is ending_point.\n",
    "# So to get ['Akhila', 'Praveen', 'Krishna'] from the list, the starting_point is 1, and ending_point is 4.\n",
    "students[1:4]"
   ]
  },
  {
   "cell_type": "code",
   "execution_count": 12,
   "id": "1045093c-f96e-4251-9b08-f70652702312",
   "metadata": {},
   "outputs": [
    {
     "data": {
      "text/plain": [
       "True"
      ]
     },
     "execution_count": 12,
     "metadata": {},
     "output_type": "execute_result"
    }
   ],
   "source": [
    "# Check if an element is in list\n",
    "'Akhila' in students"
   ]
  },
  {
   "cell_type": "code",
   "execution_count": 13,
   "id": "667abde8-f3dc-4eb7-96af-efa1f1971610",
   "metadata": {},
   "outputs": [
    {
     "data": {
      "text/plain": [
       "['Pavan', 'Akhila', 'Praveen', 'Krishna', 'Mr.Tech Tips', 11, True]"
      ]
     },
     "execution_count": 13,
     "metadata": {},
     "output_type": "execute_result"
    }
   ],
   "source": [
    "# Modify a value in list\n",
    "students[4] = 'Mr.Tech Tips'\n",
    "students\n",
    "\n",
    "# We can see the value `Linus` is changed to `Mr.Tech Tips`"
   ]
  },
  {
   "cell_type": "code",
   "execution_count": 14,
   "id": "f3d94c0f-a897-4dba-b048-0cfb4c709c97",
   "metadata": {},
   "outputs": [
    {
     "data": {
      "text/plain": [
       "['Pavan', 'Akhila', 'Praveen', 'Krishna', 'Andy', 'Mr.Tech Tips', 11, True]"
      ]
     },
     "execution_count": 14,
     "metadata": {},
     "output_type": "execute_result"
    }
   ],
   "source": [
    "# Insert a value in list in a position\n",
    "students.insert(4, 'Andy')\n",
    "students\n",
    "\n",
    "# We can see 'Andy' is added at position 2"
   ]
  },
  {
   "cell_type": "code",
   "execution_count": 15,
   "id": "b79bff1f-47f4-40f2-ab36-69da209769fe",
   "metadata": {},
   "outputs": [
    {
     "data": {
      "text/plain": [
       "['Pavan',\n",
       " 'Akhila',\n",
       " 'Praveen',\n",
       " 'Krishna',\n",
       " 'Andy',\n",
       " 'Mr.Tech Tips',\n",
       " 11,\n",
       " True,\n",
       " 'Jake Peralta',\n",
       " 'Amy Santiago',\n",
       " 'Terrance Jeffords']"
      ]
     },
     "execution_count": 15,
     "metadata": {},
     "output_type": "execute_result"
    }
   ],
   "source": [
    "# Add a list to another list - Adds at the end of first list.\n",
    "students_2 = ['Jake Peralta', 'Amy Santiago', 'Terrance Jeffords']\n",
    "students.extend(students_2)\n",
    "students"
   ]
  },
  {
   "cell_type": "code",
   "execution_count": 16,
   "id": "ccab0c6d-59ad-4ca4-8a6a-255deae39937",
   "metadata": {},
   "outputs": [
    {
     "data": {
      "text/plain": [
       "['Pavan',\n",
       " 'Akhila',\n",
       " 'Praveen',\n",
       " 'Krishna',\n",
       " 'Andy',\n",
       " 'Mr.Tech Tips',\n",
       " 11,\n",
       " 'Amy Santiago',\n",
       " 'Terrance Jeffords']"
      ]
     },
     "execution_count": 16,
     "metadata": {},
     "output_type": "execute_result"
    }
   ],
   "source": [
    "# Remove a value from list\n",
    "students.remove('Jake Peralta')\n",
    "students.remove(True)\n",
    "students"
   ]
  },
  {
   "cell_type": "code",
   "execution_count": 17,
   "id": "4ac163ef-4eb2-41d9-bd93-4e81eae48549",
   "metadata": {},
   "outputs": [
    {
     "data": {
      "text/plain": [
       "['Pavan',\n",
       " 'Akhila',\n",
       " 'Praveen',\n",
       " 'Krishna',\n",
       " 'Andy',\n",
       " 'Mr.Tech Tips',\n",
       " 11,\n",
       " 'Terrance Jeffords']"
      ]
     },
     "execution_count": 17,
     "metadata": {},
     "output_type": "execute_result"
    }
   ],
   "source": [
    "# Remove a value using the position/index of the value. (Index is a preferred term for the position of a value in a list)\n",
    "students.pop(7)\n",
    "students"
   ]
  },
  {
   "cell_type": "code",
   "execution_count": 18,
   "id": "a6db7dac-d089-42e4-8898-31655be92490",
   "metadata": {},
   "outputs": [
    {
     "data": {
      "text/plain": [
       "['Pavan', 'Akhila', 'Praveen', 'Krishna', 'Andy', 'Mr.Tech Tips', 11]"
      ]
     },
     "execution_count": 18,
     "metadata": {},
     "output_type": "execute_result"
    }
   ],
   "source": [
    "# This will also remove the last value \n",
    "students.pop()\n",
    "students"
   ]
  },
  {
   "cell_type": "code",
   "execution_count": 19,
   "id": "06e624e7-94a0-43fe-90d8-b3fdc7716740",
   "metadata": {},
   "outputs": [
    {
     "data": {
      "text/plain": [
       "[]"
      ]
     },
     "execution_count": 19,
     "metadata": {},
     "output_type": "execute_result"
    }
   ],
   "source": [
    "# Empty the whole list\n",
    "students.clear()\n",
    "students"
   ]
  },
  {
   "cell_type": "code",
   "execution_count": 20,
   "id": "a7014436-16b3-4489-90e7-da21a70e7e45",
   "metadata": {},
   "outputs": [
    {
     "data": {
      "text/plain": [
       "[0, -3, 7, 4, 1, 3, 9, 8, 5]"
      ]
     },
     "execution_count": 20,
     "metadata": {},
     "output_type": "execute_result"
    }
   ],
   "source": [
    "# Let us create another list to perform other list operations\n",
    "numbers = [0, -3, 7, 4, 1, 3, 9, 8, 5]\n",
    "numbers"
   ]
  },
  {
   "cell_type": "code",
   "execution_count": 24,
   "id": "02ae7ce9-adc4-4bbe-8e10-184df40a2e60",
   "metadata": {},
   "outputs": [
    {
     "data": {
      "text/plain": [
       "[-3, 0, 1, 3, 4, 5, 7, 8, 9]"
      ]
     },
     "execution_count": 24,
     "metadata": {},
     "output_type": "execute_result"
    }
   ],
   "source": [
    "# Sorting a list - ascending\n",
    "numbers.sort()\n",
    "numbers"
   ]
  },
  {
   "cell_type": "code",
   "execution_count": 25,
   "id": "6747cd50-b998-4b29-9dce-f4d77799cb38",
   "metadata": {},
   "outputs": [
    {
     "data": {
      "text/plain": [
       "[9, 8, 7, 5, 4, 3, 1, 0, -3]"
      ]
     },
     "execution_count": 25,
     "metadata": {},
     "output_type": "execute_result"
    }
   ],
   "source": [
    "# Sorting a list - descending\n",
    "numbers.sort(reverse = True)\n",
    "numbers"
   ]
  },
  {
   "cell_type": "code",
   "execution_count": 26,
   "id": "ef688d39-00eb-4e26-966a-509ce954f46b",
   "metadata": {},
   "outputs": [
    {
     "data": {
      "text/plain": [
       "[9, 8, 7, 5, 4, 3, 1, 0, -3]"
      ]
     },
     "execution_count": 26,
     "metadata": {},
     "output_type": "execute_result"
    }
   ],
   "source": [
    "# Make copy of a list\n",
    "numbers_copy = numbers.copy()\n",
    "numbers_copy"
   ]
  },
  {
   "cell_type": "markdown",
   "id": "b5c42427-5b5f-46f2-8181-d32d11c4bdd5",
   "metadata": {},
   "source": [
    "__This was a big notebook. You've done a good job. Now you have understood how to store sequential data in python. In next notebook, we will see another datatype called `tuple`.__\n",
    "\n",
    "__Till then, Happy Coding!__"
   ]
  }
 ],
 "metadata": {
  "kernelspec": {
   "display_name": "Python 3 (ipykernel)",
   "language": "python",
   "name": "python3"
  },
  "language_info": {
   "codemirror_mode": {
    "name": "ipython",
    "version": 3
   },
   "file_extension": ".py",
   "mimetype": "text/x-python",
   "name": "python",
   "nbconvert_exporter": "python",
   "pygments_lexer": "ipython3",
   "version": "3.9.7"
  }
 },
 "nbformat": 4,
 "nbformat_minor": 5
}
