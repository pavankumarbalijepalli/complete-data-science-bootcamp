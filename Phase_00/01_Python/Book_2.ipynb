{
 "cells": [
  {
   "cell_type": "markdown",
   "id": "a426b5d6-a2a1-489f-a5e3-631411f2d63d",
   "metadata": {
    "tags": []
   },
   "source": [
    "## Welcome to the Introductory Notebook of Python.\n",
    "By now, you have an idea of how to move around and interact with the jupyterlab and notebooks.\n",
    "\n",
    "Now, lets get started with python. So, what is python?\n",
    "\n",
    "Python is an `interpreted`, `object-oriented`, `high-level programming` language with `dynamic semantics`. Let's Break all those words into one by one:\n",
    "- __Interpreted:__ All the implementations are executed directly without requirement for compilation.\n",
    "- __Object-Oriented:__ Presence of Classes and Objects which will increase code re-usability and cleanliness. \n",
    "- __High Level Programming:__ Language is very simple and understandable for programmer.\n",
    "- __Dynamic Semantics:__ Having natural language commands which perform operations. `and`, `or`, `not` keywords are few examples for this.\n",
    "\n",
    "Now we have following commands from python. Read the each cell and run them."
   ]
  },
  {
   "cell_type": "code",
   "execution_count": 3,
   "id": "4584f020-e0e3-4ee4-bb4a-b601804daf2e",
   "metadata": {},
   "outputs": [
    {
     "name": "stdout",
     "output_type": "stream",
     "text": [
      "Hello World.\n"
     ]
    }
   ],
   "source": [
    "# Printing to console in Python\n",
    "print('Hello World.')"
   ]
  },
  {
   "cell_type": "markdown",
   "id": "fac41993-9dac-4e76-825c-60fcbc5aaede",
   "metadata": {},
   "source": [
    "---\n",
    "__Comments:__\n",
    "- We use comment blocks to explain the code to the viewer/progammer to help them understand. \n",
    "- Comments are written after `#` operator. \n",
    "- Comments are not considered as python-code. \n",
    "- You can either add a `#` at the beginning, or use command `ctrl` + `/` to comment the line where the cursor is at. \n",
    "\n",
    "These are the following ways to make comments."
   ]
  },
  {
   "cell_type": "code",
   "execution_count": 8,
   "id": "0abcfb66-da32-4677-9db6-f781d9a20ec0",
   "metadata": {},
   "outputs": [],
   "source": [
    "# General use\n",
    "# This is a comment block.\n",
    "\n",
    "# Using along with code\n",
    "a = 10 # Declaring value of variable a to 10\n",
    "\n",
    "# Testing variables - Here we are testing multiple values for `a`. Since second line is commented, it will not be executed.\n",
    "a = 10\n",
    "# a = 15\n",
    "\n",
    "# Multiline Comments\n",
    "# Here we use various\n",
    "# Comment blocks to\n",
    "# complete a sentence or\n",
    "# a brief explanation of code \n",
    "\n",
    "# Doc-Strings\n",
    "\"\"\"\n",
    "These are usually used to make descriptions for classes or functions in python. \n",
    "Eventhough this is not considered as a command by python, It is not a good practice to use doc-strings as comments.\n",
    "\"\"\";\n",
    "\n",
    "# Here you can see I have used `;` operator to avoid unnecessary output by jupyter cell."
   ]
  },
  {
   "cell_type": "markdown",
   "id": "97104546-ae82-494e-a3fd-5e660c75b2e8",
   "metadata": {},
   "source": [
    "---\n",
    "__Variables__\n",
    "\n",
    "As the name explains itself, these are values which can vary over execution of code. Variables provide freedom for the programmer to define a value or a command to a self-defined name. I can have a variable with name `a` and give it any value."
   ]
  },
  {
   "cell_type": "code",
   "execution_count": 9,
   "id": "3984e17f-e2f1-4818-881a-2118cde759cf",
   "metadata": {},
   "outputs": [],
   "source": [
    "# Lets create a simple variable which holds value of 10\n",
    "a = 10\n",
    "# Now the value of the letter `a` or the VARIABLE `a` holds a value 10. "
   ]
  },
  {
   "cell_type": "markdown",
   "id": "a0741f7e-191a-461c-99ff-e2ce69e9c4e4",
   "metadata": {},
   "source": [
    "We have few rules to name a variable.\n",
    "- Varible name cannot start with a number\n",
    "- Variable name cannot have special characters in it.\n",
    "- Variable name cannot have spaces in between them."
   ]
  },
  {
   "cell_type": "code",
   "execution_count": 10,
   "id": "735e1829-7900-47a6-a82a-ab1b26f2420c",
   "metadata": {},
   "outputs": [],
   "source": [
    "# None of these will give out an error. Because the naming of variables is correct\n",
    "avariable = 10\n",
    "a_variable = 10\n",
    "_avariable = 10\n",
    "avariable_ = 10"
   ]
  },
  {
   "cell_type": "code",
   "execution_count": 14,
   "id": "40f9cc97-da20-4b1d-8777-5a1214d750bc",
   "metadata": {},
   "outputs": [
    {
     "ename": "SyntaxError",
     "evalue": "cannot assign to operator (Temp/ipykernel_19536/2100222365.py, line 2)",
     "output_type": "error",
     "traceback": [
      "\u001b[1;36m  File \u001b[1;32m\"C:\\Users\\pavan\\AppData\\Local\\Temp/ipykernel_19536/2100222365.py\"\u001b[1;36m, line \u001b[1;32m2\u001b[0m\n\u001b[1;33m    a-variable = 10\u001b[0m\n\u001b[1;37m    ^\u001b[0m\n\u001b[1;31mSyntaxError\u001b[0m\u001b[1;31m:\u001b[0m cannot assign to operator\n"
     ]
    }
   ],
   "source": [
    "# Running this cell will give error. Don't worry, we are doing this on purpose.\n",
    "a-variable = 10\n",
    "2variables = 10\n",
    "a variable = 10\n",
    "\n",
    "# If you understand commenting, try commenting line by line from top and run the cell again and again to see various kinds of errors."
   ]
  },
  {
   "cell_type": "code",
   "execution_count": 15,
   "id": "d199bc1f-243d-4993-b8ee-c4b341060ab0",
   "metadata": {},
   "outputs": [],
   "source": [
    "# We can also assign variables to string values\n",
    "name = 'John Snow'"
   ]
  },
  {
   "cell_type": "code",
   "execution_count": 16,
   "id": "6bc2782c-edda-48df-810f-1bcf03928c7e",
   "metadata": {},
   "outputs": [],
   "source": [
    "# We can assign multiple values at once\n",
    "length, breadth, height = 10, 20, 30\n",
    "\n",
    "# We can also assign same value to multiple variables\n",
    "side_a = side_b = side_c = 10"
   ]
  },
  {
   "cell_type": "code",
   "execution_count": 17,
   "id": "75782c37-3b68-4cc6-bc97-7ac313ceb76d",
   "metadata": {},
   "outputs": [
    {
     "name": "stdout",
     "output_type": "stream",
     "text": [
      "10 20 30\n"
     ]
    }
   ],
   "source": [
    "# Printing Multiple Variables\n",
    "print(length, breadth, height)"
   ]
  },
  {
   "cell_type": "markdown",
   "id": "4601ec82-f63e-4fb6-addc-81982d5097da",
   "metadata": {},
   "source": [
    "---\n",
    "__Data Types__\n",
    "\n",
    "Before we get into data types, one liner for *why datatypes?*\n",
    "\n",
    "Any programming language is used to perform various computational operations on various types of data. In order differentiate between types of data, we have datatypes. We can find the datatype of the variable by using the function** `type(variable_name)`.\n",
    "\n",
    "**function will be explained in the coming lectures"
   ]
  },
  {
   "cell_type": "code",
   "execution_count": 20,
   "id": "8a3b01cb-56bb-4688-9bd9-61a46443a018",
   "metadata": {},
   "outputs": [
    {
     "name": "stdout",
     "output_type": "stream",
     "text": [
      "<class 'int'>\n",
      "<class 'float'>\n"
     ]
    }
   ],
   "source": [
    "# For Numeric Values\n",
    "a = 10\n",
    "print(type(a))\n",
    "\n",
    "a = 10.556\n",
    "print(type(a))\n",
    "\n",
    "# We see 'int' and 'float' datatypes below. `int` represents `integer`, `float` represents `whole number (with decimals)`"
   ]
  },
  {
   "cell_type": "code",
   "execution_count": 22,
   "id": "e0b076d4-e177-4d8b-af7a-ef663328c4bd",
   "metadata": {},
   "outputs": [
    {
     "name": "stdout",
     "output_type": "stream",
     "text": [
      "<class 'str'>\n"
     ]
    }
   ],
   "source": [
    "# For String Values\n",
    "a = 'Python'\n",
    "print(type(a))\n",
    "\n",
    "# We see 'str' which represents string. `string` means arranging various characters side by side (string of characters)."
   ]
  },
  {
   "cell_type": "code",
   "execution_count": 24,
   "id": "afe78fc1-fcc2-4039-a2d4-46bfa5f1a552",
   "metadata": {},
   "outputs": [
    {
     "name": "stdout",
     "output_type": "stream",
     "text": [
      "<class 'bool'>\n"
     ]
    }
   ],
   "source": [
    "# For True, False Values\n",
    "a = True\n",
    "print(type(a))\n",
    "\n",
    "# We see `bool` which represents Boolean. This holds values such as True or False."
   ]
  },
  {
   "cell_type": "markdown",
   "id": "8a069d50-e031-479d-92dc-38514439b47a",
   "metadata": {},
   "source": [
    "__Great, Now you have understood how to `print`, `create variables`, `name the variables properly`, `get the datatype of the variable` in python. In next notebook, we will perform some `mathematical operations` using our variables.__\n",
    "\n",
    "__Till then, Happy Coding!__"
   ]
  },
  {
   "cell_type": "code",
   "execution_count": null,
   "id": "b2ba5e72-379e-4b7a-86df-d863b1093c61",
   "metadata": {},
   "outputs": [],
   "source": []
  }
 ],
 "metadata": {
  "kernelspec": {
   "display_name": "Python 3 (ipykernel)",
   "language": "python",
   "name": "python3"
  },
  "language_info": {
   "codemirror_mode": {
    "name": "ipython",
    "version": 3
   },
   "file_extension": ".py",
   "mimetype": "text/x-python",
   "name": "python",
   "nbconvert_exporter": "python",
   "pygments_lexer": "ipython3",
   "version": "3.9.7"
  },
  "vscode": {
   "interpreter": {
    "hash": "a60f3e5221f9551b041376128a51fefb3088c8acc3789c81913f07bab024913d"
   }
  }
 },
 "nbformat": 4,
 "nbformat_minor": 5
}
