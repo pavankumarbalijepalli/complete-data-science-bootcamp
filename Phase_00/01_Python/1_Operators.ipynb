{
 "cells": [
  {
   "cell_type": "markdown",
   "id": "77796fc2-c24e-4d76-9b8c-0c5a2c8f6100",
   "metadata": {},
   "source": [
    "__Now that you know what variables are and how we store them, let us see how we can perform mathematical operations on them.__ `(Arthematic Operators)`"
   ]
  },
  {
   "cell_type": "code",
   "execution_count": 2,
   "id": "61d82e1a-aefc-47e1-91fe-a86d5a59c5cd",
   "metadata": {},
   "outputs": [],
   "source": [
    "# Creating few variables over which we can perform operations\n",
    "a = 10\n",
    "b = 20\n",
    "c = 30"
   ]
  },
  {
   "cell_type": "code",
   "execution_count": 3,
   "id": "cbf1b181-c3b7-4558-8575-71e811711d25",
   "metadata": {},
   "outputs": [
    {
     "name": "stdout",
     "output_type": "stream",
     "text": [
      "30\n"
     ]
    }
   ],
   "source": [
    "# Adding two variables\n",
    "print(a+b)"
   ]
  },
  {
   "cell_type": "code",
   "execution_count": 4,
   "id": "8fe0f8d7-30ff-4410-8bae-e60f3e5014cb",
   "metadata": {},
   "outputs": [
    {
     "name": "stdout",
     "output_type": "stream",
     "text": [
      "-10\n"
     ]
    }
   ],
   "source": [
    "# Subtracting two variables\n",
    "print(a-b)"
   ]
  },
  {
   "cell_type": "code",
   "execution_count": 5,
   "id": "ff05ad40-db1f-4f91-ab4c-986efe9db34a",
   "metadata": {},
   "outputs": [
    {
     "name": "stdout",
     "output_type": "stream",
     "text": [
      "0.5\n"
     ]
    }
   ],
   "source": [
    "# Dividing two variables\n",
    "print(a/b)"
   ]
  },
  {
   "cell_type": "code",
   "execution_count": 6,
   "id": "0ffb172f-4807-4a0a-a493-c06220450b8c",
   "metadata": {},
   "outputs": [
    {
     "name": "stdout",
     "output_type": "stream",
     "text": [
      "10\n"
     ]
    }
   ],
   "source": [
    "# Get reminder of division of two variables\n",
    "print(a%b)"
   ]
  },
  {
   "cell_type": "code",
   "execution_count": 7,
   "id": "5b741b5c-973a-4b78-a3a5-61edaf115a7d",
   "metadata": {},
   "outputs": [
    {
     "name": "stdout",
     "output_type": "stream",
     "text": [
      "200\n"
     ]
    }
   ],
   "source": [
    "# Multiplying 2 variables\n",
    "print(a*b)"
   ]
  },
  {
   "cell_type": "markdown",
   "id": "853b3c23-f1e0-4bcb-99a4-51afa7722e23",
   "metadata": {},
   "source": [
    "__We can modify the existing values of variables by following operations__ `(Assignment Operators)`\n",
    "\n",
    "`Be careful.` These operations will change the value of the variable. So running cell multiple times will give different answers"
   ]
  },
  {
   "cell_type": "code",
   "execution_count": 8,
   "id": "8d9b3032-5706-4788-ad01-f392c0114cef",
   "metadata": {},
   "outputs": [
    {
     "data": {
      "text/plain": [
       "20"
      ]
     },
     "execution_count": 8,
     "metadata": {},
     "output_type": "execute_result"
    }
   ],
   "source": [
    "# Increasing current value of `a` by 10;\n",
    "# If `a` value is 10, this will increase it by 10, making `a` value 20\n",
    "a += 10\n",
    "a"
   ]
  },
  {
   "cell_type": "code",
   "execution_count": 9,
   "id": "1ad305aa-f9f4-42bb-aa60-777cdd66e440",
   "metadata": {},
   "outputs": [
    {
     "data": {
      "text/plain": [
       "10"
      ]
     },
     "execution_count": 9,
     "metadata": {},
     "output_type": "execute_result"
    }
   ],
   "source": [
    "# Similarly decreasing value of `b` by 10\n",
    "b -= 10\n",
    "b"
   ]
  },
  {
   "cell_type": "code",
   "execution_count": 10,
   "id": "4d8a7411-f628-465b-bf9b-9a08946d0b55",
   "metadata": {},
   "outputs": [
    {
     "data": {
      "text/plain": [
       "20"
      ]
     },
     "execution_count": 10,
     "metadata": {},
     "output_type": "execute_result"
    }
   ],
   "source": [
    "# Multiplication Operation\n",
    "b *= 2\n",
    "b"
   ]
  },
  {
   "cell_type": "code",
   "execution_count": 11,
   "id": "efc6bf63-0ec9-47b6-9077-8460feaf2009",
   "metadata": {},
   "outputs": [
    {
     "data": {
      "text/plain": [
       "10.0"
      ]
     },
     "execution_count": 11,
     "metadata": {},
     "output_type": "execute_result"
    }
   ],
   "source": [
    "# Division Operation\n",
    "c /= 3\n",
    "c"
   ]
  },
  {
   "cell_type": "markdown",
   "id": "72e467c8-83a2-4b7d-b3d9-4cf768ddb66a",
   "metadata": {},
   "source": [
    "__We can compare two variables using following operations__ `(Comparision Operators)`"
   ]
  },
  {
   "cell_type": "code",
   "execution_count": 12,
   "id": "61ce296f-4972-434f-b502-e4d022429aff",
   "metadata": {},
   "outputs": [
    {
     "data": {
      "text/plain": [
       "True"
      ]
     },
     "execution_count": 12,
     "metadata": {},
     "output_type": "execute_result"
    }
   ],
   "source": [
    "# Check if `a` and `b` are equal\n",
    "a == b"
   ]
  },
  {
   "cell_type": "code",
   "execution_count": 13,
   "id": "f5ddf2bd-b4b3-4403-80ba-440cedd8fd62",
   "metadata": {},
   "outputs": [
    {
     "data": {
      "text/plain": [
       "True"
      ]
     },
     "execution_count": 13,
     "metadata": {},
     "output_type": "execute_result"
    }
   ],
   "source": [
    "# Check if `c` and `b` are not equal\n",
    "c != b"
   ]
  },
  {
   "cell_type": "code",
   "execution_count": 14,
   "id": "c0d628e9-93ab-4d9a-86e8-84e156e58490",
   "metadata": {},
   "outputs": [
    {
     "data": {
      "text/plain": [
       "False"
      ]
     },
     "execution_count": 14,
     "metadata": {},
     "output_type": "execute_result"
    }
   ],
   "source": [
    "# Check if `c` greater than `b`\n",
    "c > b"
   ]
  },
  {
   "cell_type": "code",
   "execution_count": 15,
   "id": "8dcfd5de-a66e-4b66-aff7-4c62cf5f6f2a",
   "metadata": {},
   "outputs": [
    {
     "data": {
      "text/plain": [
       "True"
      ]
     },
     "execution_count": 15,
     "metadata": {},
     "output_type": "execute_result"
    }
   ],
   "source": [
    "# Check if `c` lesser than `b`\n",
    "c < b"
   ]
  },
  {
   "cell_type": "code",
   "execution_count": 16,
   "id": "0d474f73-001e-4703-aad4-b3ab109eee9d",
   "metadata": {},
   "outputs": [
    {
     "data": {
      "text/plain": [
       "True"
      ]
     },
     "execution_count": 16,
     "metadata": {},
     "output_type": "execute_result"
    }
   ],
   "source": [
    "# Check if `c` lesser than or equal to `b`\n",
    "c <= b"
   ]
  },
  {
   "cell_type": "code",
   "execution_count": 17,
   "id": "0f95fec9-ee67-4cd6-bba0-af66b6029b0c",
   "metadata": {},
   "outputs": [
    {
     "data": {
      "text/plain": [
       "False"
      ]
     },
     "execution_count": 17,
     "metadata": {},
     "output_type": "execute_result"
    }
   ],
   "source": [
    "# Check if `c` greater than or equal to `a`\n",
    "c >= a"
   ]
  },
  {
   "cell_type": "markdown",
   "id": "d7beb1eb-b338-4e22-8487-454b1d2bcba3",
   "metadata": {},
   "source": [
    "__You can combine two comparision statements__ `(Logical Operators)`"
   ]
  },
  {
   "cell_type": "code",
   "execution_count": 18,
   "id": "d7eb8e4f-0ec0-4a62-b835-6a2b9c2eb9b7",
   "metadata": {},
   "outputs": [
    {
     "data": {
      "text/plain": [
       "False"
      ]
     },
     "execution_count": 18,
     "metadata": {},
     "output_type": "execute_result"
    }
   ],
   "source": [
    "# Is `a` equal `b` and also b==c?\n",
    "a==b and b==c"
   ]
  },
  {
   "cell_type": "code",
   "execution_count": 19,
   "id": "83fe27e1-88ed-4329-a36e-d01c1e567ec6",
   "metadata": {},
   "outputs": [
    {
     "data": {
      "text/plain": [
       "True"
      ]
     },
     "execution_count": 19,
     "metadata": {},
     "output_type": "execute_result"
    }
   ],
   "source": [
    "# Is a == b or atleast b == c?\n",
    "a==b or b==c"
   ]
  },
  {
   "cell_type": "code",
   "execution_count": 22,
   "id": "01eef6f0-d216-4440-bbe7-0a4600c414d7",
   "metadata": {},
   "outputs": [
    {
     "data": {
      "text/plain": [
       "False"
      ]
     },
     "execution_count": 22,
     "metadata": {},
     "output_type": "execute_result"
    }
   ],
   "source": [
    "# Is a==b false?\n",
    "not a==b"
   ]
  },
  {
   "cell_type": "markdown",
   "id": "c1c8781f-d677-4aeb-8db8-c9f954f3b703",
   "metadata": {},
   "source": [
    "__You can find if an element is in a sequence__ `(Membership Operators)`"
   ]
  },
  {
   "cell_type": "code",
   "execution_count": 23,
   "id": "3e758c20-c1d1-4a34-887d-3f961320246f",
   "metadata": {},
   "outputs": [
    {
     "data": {
      "text/plain": [
       "False"
      ]
     },
     "execution_count": 23,
     "metadata": {},
     "output_type": "execute_result"
    }
   ],
   "source": [
    "# Creating Variables\n",
    "employee_id = 1024\n",
    "employees_list = [1,2,4,8,16,32,64,128,256,512]\n",
    "# The above type of variable is not seen before, it is fine. We will cover it soon.\n",
    "\n",
    "# We check if employee_id is in employees_list\n",
    "employee_id in employees_list"
   ]
  },
  {
   "cell_type": "markdown",
   "id": "3fa8f818-1fc1-49e5-a147-13fa4f377814",
   "metadata": {},
   "source": [
    "__Great, Now you have understood how to perform `mathematical operations` to `variables` in python. In next notebook, we will see another datatype called `list`.__\n",
    "\n",
    "__Till then, Happy Coding!__"
   ]
  }
 ],
 "metadata": {
  "kernelspec": {
   "display_name": "Python 3 (ipykernel)",
   "language": "python",
   "name": "python3"
  },
  "language_info": {
   "codemirror_mode": {
    "name": "ipython",
    "version": 3
   },
   "file_extension": ".py",
   "mimetype": "text/x-python",
   "name": "python",
   "nbconvert_exporter": "python",
   "pygments_lexer": "ipython3",
   "version": "3.9.7"
  },
  "vscode": {
   "interpreter": {
    "hash": "a60f3e5221f9551b041376128a51fefb3088c8acc3789c81913f07bab024913d"
   }
  }
 },
 "nbformat": 4,
 "nbformat_minor": 5
}
