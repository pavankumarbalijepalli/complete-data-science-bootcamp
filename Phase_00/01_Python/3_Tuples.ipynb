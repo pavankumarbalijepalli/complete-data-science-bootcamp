{
 "cells": [
  {
   "cell_type": "markdown",
   "id": "95d50605-ff74-42dc-aec1-aac6342dfee6",
   "metadata": {},
   "source": [
    "__We have seen `lists` to store our data. How let us see another way of storing data, using `tuples`.__"
   ]
  },
  {
   "cell_type": "code",
   "execution_count": 1,
   "id": "54fbc814-b41d-464e-a638-548f9b244206",
   "metadata": {},
   "outputs": [
    {
     "data": {
      "text/plain": [
       "('Valorant', 'Apex Legends', 'League of Legends')"
      ]
     },
     "execution_count": 1,
     "metadata": {},
     "output_type": "execute_result"
    }
   ],
   "source": [
    "# Creation of Tuple\n",
    "games = ('Valorant', 'Apex Legends', 'League of Legends')\n",
    "games"
   ]
  },
  {
   "cell_type": "code",
   "execution_count": 2,
   "id": "8e69245a-7e09-4f00-bcdc-6ed69e310058",
   "metadata": {},
   "outputs": [
    {
     "data": {
      "text/plain": [
       "3"
      ]
     },
     "execution_count": 2,
     "metadata": {},
     "output_type": "execute_result"
    }
   ],
   "source": [
    "# Length of Tuple\n",
    "len(games)"
   ]
  },
  {
   "cell_type": "code",
   "execution_count": 3,
   "id": "6e1e7d0c-11de-45e0-9056-e7ee5666365b",
   "metadata": {},
   "outputs": [
    {
     "data": {
      "text/plain": [
       "'Valorant'"
      ]
     },
     "execution_count": 3,
     "metadata": {},
     "output_type": "execute_result"
    }
   ],
   "source": [
    "# Accessing items from tuple\n",
    "games[0]"
   ]
  },
  {
   "cell_type": "code",
   "execution_count": 4,
   "id": "d2376e61-1410-4cdd-9cc0-b0d251a2415d",
   "metadata": {},
   "outputs": [
    {
     "data": {
      "text/plain": [
       "'League of Legends'"
      ]
     },
     "execution_count": 4,
     "metadata": {},
     "output_type": "execute_result"
    }
   ],
   "source": [
    "games[-1]"
   ]
  },
  {
   "cell_type": "markdown",
   "id": "d55add4d-366b-411b-bc2d-30593dd162dc",
   "metadata": {},
   "source": [
    "__Tuple is exactly same as lists. The only difference is once a tuple is created, it cannot be modified.__"
   ]
  },
  {
   "cell_type": "code",
   "execution_count": 5,
   "id": "1eaeb107-3f52-4ba4-b05e-06af1a7b9e64",
   "metadata": {},
   "outputs": [
    {
     "ename": "TypeError",
     "evalue": "'tuple' object does not support item assignment",
     "output_type": "error",
     "traceback": [
      "\u001b[1;31m---------------------------------------------------------------------------\u001b[0m",
      "\u001b[1;31mTypeError\u001b[0m                                 Traceback (most recent call last)",
      "\u001b[1;32m~\\AppData\\Local\\Temp/ipykernel_11900/3931413113.py\u001b[0m in \u001b[0;36m<module>\u001b[1;34m\u001b[0m\n\u001b[0;32m      1\u001b[0m \u001b[1;31m# This cell will throw an error - 'tuple object does not support item assignment'\u001b[0m\u001b[1;33m\u001b[0m\u001b[1;33m\u001b[0m\u001b[0m\n\u001b[1;32m----> 2\u001b[1;33m \u001b[0mgames\u001b[0m\u001b[1;33m[\u001b[0m\u001b[1;36m1\u001b[0m\u001b[1;33m]\u001b[0m \u001b[1;33m=\u001b[0m \u001b[1;34m'Noah'\u001b[0m\u001b[1;33m\u001b[0m\u001b[1;33m\u001b[0m\u001b[0m\n\u001b[0m\u001b[0;32m      3\u001b[0m \u001b[0mgames\u001b[0m\u001b[1;33m\u001b[0m\u001b[1;33m\u001b[0m\u001b[0m\n\u001b[0;32m      4\u001b[0m \u001b[1;33m\u001b[0m\u001b[0m\n\u001b[0;32m      5\u001b[0m \u001b[1;31m# This is because tuple is immutable (cannot be modified).\u001b[0m\u001b[1;33m\u001b[0m\u001b[1;33m\u001b[0m\u001b[0m\n",
      "\u001b[1;31mTypeError\u001b[0m: 'tuple' object does not support item assignment"
     ]
    }
   ],
   "source": [
    "# This cell will throw an error - 'tuple object does not support item assignment'\n",
    "games[1] = 'Noah'\n",
    "games\n",
    "\n",
    "# This is because tuple is immutable (cannot be modified)."
   ]
  },
  {
   "cell_type": "code",
   "execution_count": 6,
   "id": "3cb5a429-e1b8-46be-b54b-a6f670115d76",
   "metadata": {},
   "outputs": [
    {
     "ename": "AttributeError",
     "evalue": "'tuple' object has no attribute 'append'",
     "output_type": "error",
     "traceback": [
      "\u001b[1;31m---------------------------------------------------------------------------\u001b[0m",
      "\u001b[1;31mAttributeError\u001b[0m                            Traceback (most recent call last)",
      "\u001b[1;32m~\\AppData\\Local\\Temp/ipykernel_11900/2597326149.py\u001b[0m in \u001b[0;36m<module>\u001b[1;34m\u001b[0m\n\u001b[0;32m      1\u001b[0m \u001b[1;31m# This cell will throw an error - 'tuple object has no attribute append'\u001b[0m\u001b[1;33m\u001b[0m\u001b[1;33m\u001b[0m\u001b[0m\n\u001b[1;32m----> 2\u001b[1;33m \u001b[0mgames\u001b[0m\u001b[1;33m.\u001b[0m\u001b[0mappend\u001b[0m\u001b[1;33m(\u001b[0m\u001b[1;34m'Control'\u001b[0m\u001b[1;33m)\u001b[0m\u001b[1;33m\u001b[0m\u001b[1;33m\u001b[0m\u001b[0m\n\u001b[0m\u001b[0;32m      3\u001b[0m \u001b[0mgames\u001b[0m\u001b[1;33m\u001b[0m\u001b[1;33m\u001b[0m\u001b[0m\n\u001b[0;32m      4\u001b[0m \u001b[1;33m\u001b[0m\u001b[0m\n\u001b[0;32m      5\u001b[0m \u001b[1;31m# As modifying is not available, there are no functions to add or remove items from the tuple\u001b[0m\u001b[1;33m\u001b[0m\u001b[1;33m\u001b[0m\u001b[0m\n",
      "\u001b[1;31mAttributeError\u001b[0m: 'tuple' object has no attribute 'append'"
     ]
    }
   ],
   "source": [
    "# This cell will throw an error - 'tuple object has no attribute append'\n",
    "games.append('Control')\n",
    "games\n",
    "\n",
    "# As modifying is not available, there are no functions to add or remove items from the tuple"
   ]
  },
  {
   "cell_type": "code",
   "execution_count": 7,
   "id": "d42f62ce-cb47-4433-a25d-13ccbc66fe7c",
   "metadata": {},
   "outputs": [
    {
     "data": {
      "text/plain": [
       "('Valorant', 'Apex Legends', 'League of Legends', 'God of War')"
      ]
     },
     "execution_count": 7,
     "metadata": {},
     "output_type": "execute_result"
    }
   ],
   "source": [
    "# In order to modify a tuple, we can convert the tuple to a list, modify it, and then convert it back to tuple\n",
    "games_list = list(games)\n",
    "# This is the first time we are looking at constructor of the `list` data structure. We will look into constructors soon.\n",
    "\n",
    "# Now we modify the list\n",
    "games_list.append('God of War')\n",
    "\n",
    "# Now we convert it to tuple\n",
    "games_tuple = tuple(games_list)\n",
    "# Here we again see another constructor. this is for tuple.\n",
    "\n",
    "games_tuple\n",
    "# Here we can see the game 'God of War' is added to the tuple."
   ]
  },
  {
   "cell_type": "code",
   "execution_count": 8,
   "id": "fd10429a-6c41-44d7-8395-cb50da3f6993",
   "metadata": {},
   "outputs": [
    {
     "data": {
      "text/plain": [
       "('Valorant',\n",
       " 'Apex Legends',\n",
       " 'League of Legends',\n",
       " 'Valorant',\n",
       " 'Apex Legends',\n",
       " 'League of Legends',\n",
       " 'God of War')"
      ]
     },
     "execution_count": 8,
     "metadata": {},
     "output_type": "execute_result"
    }
   ],
   "source": [
    "# Joining two tuples\n",
    "joined_tuples = games + games_tuple\n",
    "joined_tuples"
   ]
  },
  {
   "cell_type": "markdown",
   "id": "320839fc-dd07-496b-9535-a88e10905245",
   "metadata": {},
   "source": [
    "__Now we know what are tuples. But if you observe, tuples are exactly same as lists, but tuples cannot be updated.__\n",
    "\n",
    "__Why tuples exist, if they are same as lists?__\n",
    "\n",
    "- Because, tuples are a lot faster than lists. Since lists can be updated, the memory needs to be capable of storing newer values. But in tuples, since the size is fixed, the memory can be accessed faster. \n",
    "\n",
    "- Also in few scenarios, we might have data which is fixed through it's lifetime. For example if you are storing the names of continents. That is something which is constant. We cannot add or remove continent because they exist. \n",
    "\n",
    "- Simply put, we store our data in tuples, if the data is `static` (meaning: constant and unchanged) and we store our data in lists, if the data is `dynamic` (meaning: varying and changing)"
   ]
  },
  {
   "cell_type": "markdown",
   "id": "ee686200-412d-40ed-856f-4a03387e499d",
   "metadata": {},
   "source": [
    "__This is a smaller notebook, with a lot of definitions. Now you have understood how to store sequential data in python using tuples. In next notebook, we will see another datatype called `set`.__\n",
    "\n",
    "__Till then, Happy Coding!__"
   ]
  },
  {
   "cell_type": "code",
   "execution_count": null,
   "id": "f3468556-9b31-4005-9235-9bdd6d9d999d",
   "metadata": {},
   "outputs": [],
   "source": []
  }
 ],
 "metadata": {
  "kernelspec": {
   "display_name": "Python 3 (ipykernel)",
   "language": "python",
   "name": "python3"
  },
  "language_info": {
   "codemirror_mode": {
    "name": "ipython",
    "version": 3
   },
   "file_extension": ".py",
   "mimetype": "text/x-python",
   "name": "python",
   "nbconvert_exporter": "python",
   "pygments_lexer": "ipython3",
   "version": "3.9.7"
  }
 },
 "nbformat": 4,
 "nbformat_minor": 5
}
