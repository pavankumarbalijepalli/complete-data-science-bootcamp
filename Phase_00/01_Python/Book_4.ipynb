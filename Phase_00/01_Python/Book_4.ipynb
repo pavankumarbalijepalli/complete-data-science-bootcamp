{
 "cells": [
  {
   "cell_type": "markdown",
   "id": "dcb6a531-13f4-40c7-b1cc-3c26ea4c9c22",
   "metadata": {},
   "source": [
    "__We have seen few mathematical operations on the variables where we store our data. How let us see a new way of storing data, using `lists`.__"
   ]
  },
  {
   "cell_type": "markdown",
   "id": "b9dc742a-04bd-4698-8f96-4f1ee2787617",
   "metadata": {},
   "source": [
    "Even though a `list` is a type of data, it is better to call it a `data structure` instead of `data type`. This is because we are storing the same data in a new structure. "
   ]
  },
  {
   "cell_type": "code",
   "execution_count": 1,
   "id": "eeecc671-bac9-424d-a67f-94d9e4c22065",
   "metadata": {},
   "outputs": [],
   "source": [
    "# Let us create various students to store their names\n",
    "student_1 = 'Pavan'\n",
    "student_2 = 'Akhila'\n",
    "student_3 = 'Praveen'\n",
    "student_4 = 'Krishna'"
   ]
  },
  {
   "cell_type": "markdown",
   "id": "7fc8dddc-c4cc-42a8-b109-c5b99bb813da",
   "metadata": {},
   "source": [
    "__This is not a correct way of creating student names because if the `number of students` increase, we cannot accommodate for them.__\n",
    "\n",
    "So, how to we accommodate space for student names, when we don't know how many students are present. We use the data structure called `list`."
   ]
  },
  {
   "cell_type": "code",
   "execution_count": 2,
   "id": "885ad32e-e6f3-4216-aee6-349b899332f0",
   "metadata": {},
   "outputs": [],
   "source": [
    "students = ['Pavan', 'Akhila', 'Praveen', 'Krishna']"
   ]
  },
  {
   "cell_type": "code",
   "execution_count": 3,
   "id": "5b2a500d-1f22-4cb4-b896-4aeedc442cd5",
   "metadata": {},
   "outputs": [
    {
     "data": {
      "text/plain": [
       "['Pavan', 'Akhila', 'Praveen', 'Krishna', 'Linus']"
      ]
     },
     "execution_count": 3,
     "metadata": {},
     "output_type": "execute_result"
    }
   ],
   "source": [
    "# if we want to add the new person to the list, after it is created.\n",
    "students.append('Linus')\n",
    "students"
   ]
  },
  {
   "cell_type": "code",
   "execution_count": 4,
   "id": "cbcc0a43-c97f-44d2-8785-4277a3bac9ef",
   "metadata": {},
   "outputs": [
    {
     "data": {
      "text/plain": [
       "5"
      ]
     },
     "execution_count": 4,
     "metadata": {},
     "output_type": "execute_result"
    }
   ],
   "source": [
    "# Finding number of values in a list\n",
    "len(students)"
   ]
  },
  {
   "cell_type": "code",
   "execution_count": 5,
   "id": "683324fc-9578-47cc-a42d-2461a7da5b85",
   "metadata": {},
   "outputs": [
    {
     "data": {
      "text/plain": [
       "['Pavan', 'Akhila', 'Praveen', 'Krishna', 'Linus', 11]"
      ]
     },
     "execution_count": 5,
     "metadata": {},
     "output_type": "execute_result"
    }
   ],
   "source": [
    "# Adding a number in string list.\n",
    "students.append(11)\n",
    "students\n",
    "\n",
    "# This is accepted in the list. A value of any datatype can be added together in the same list."
   ]
  },
  {
   "cell_type": "code",
   "execution_count": 6,
   "id": "a2cc8fd6-7280-4435-8ecb-bd4a85c807c0",
   "metadata": {},
   "outputs": [
    {
     "data": {
      "text/plain": [
       "'Pavan'"
      ]
     },
     "execution_count": 6,
     "metadata": {},
     "output_type": "execute_result"
    }
   ],
   "source": [
    "# Getting the first element from the list\n",
    "students[0]"
   ]
  },
  {
   "cell_type": "code",
   "execution_count": 7,
   "id": "49357f8e-30a9-4faa-b894-63444e2f9d21",
   "metadata": {},
   "outputs": [
    {
     "data": {
      "text/plain": [
       "'Akhila'"
      ]
     },
     "execution_count": 7,
     "metadata": {},
     "output_type": "execute_result"
    }
   ],
   "source": [
    "# This is a new thing to remember. In python, the numbers start from `0`. That way `1` will give you the 2nd element in the list.\n",
    "students[1]"
   ]
  },
  {
   "cell_type": "code",
   "execution_count": 8,
   "id": "af3dd882-a81e-4e8f-ae8f-7988d9df593b",
   "metadata": {},
   "outputs": [
    {
     "data": {
      "text/plain": [
       "11"
      ]
     },
     "execution_count": 8,
     "metadata": {},
     "output_type": "execute_result"
    }
   ],
   "source": [
    "# Getting the last element from the list\n",
    "students[-1]"
   ]
  },
  {
   "cell_type": "code",
   "execution_count": 9,
   "id": "43081f5b-3e58-460e-8095-0ae72fa85bf8",
   "metadata": {},
   "outputs": [
    {
     "data": {
      "text/plain": [
       "'Linus'"
      ]
     },
     "execution_count": 9,
     "metadata": {},
     "output_type": "execute_result"
    }
   ],
   "source": [
    "# This represents removing 1 from the length of the list. So instead of getting the length and adding -1 to it, we just give [-1] to the list.\n",
    "# Works for [-2], [-3]...\n",
    "students[-2]"
   ]
  },
  {
   "cell_type": "code",
   "execution_count": 10,
   "id": "93d4cbe3-a161-4559-8409-3986d14333f2",
   "metadata": {},
   "outputs": [
    {
     "data": {
      "text/plain": [
       "['Pavan', 'Akhila', 'Praveen', 'Krishna']"
      ]
     },
     "execution_count": 10,
     "metadata": {},
     "output_type": "execute_result"
    }
   ],
   "source": [
    "# Getting first 4 names\n",
    "students[0:4]"
   ]
  },
  {
   "cell_type": "code",
   "execution_count": 11,
   "id": "e50f5fa5-dbda-4733-a6d8-e562e017a27f",
   "metadata": {},
   "outputs": [
    {
     "data": {
      "text/plain": [
       "['Akhila', 'Praveen', 'Krishna']"
      ]
     },
     "execution_count": 11,
     "metadata": {},
     "output_type": "execute_result"
    }
   ],
   "source": [
    "# The operator `:` means everything. Value on left of `:` is starting_point, and value of right of `:` is ending_point.\n",
    "# So to get ['Akhila', 'Praveen', 'Krishna'] from the list, the starting_point is 1, and ending_point is 4.\n",
    "students[1:4]"
   ]
  },
  {
   "cell_type": "code",
   "execution_count": 12,
   "id": "1045093c-f96e-4251-9b08-f70652702312",
   "metadata": {},
   "outputs": [
    {
     "data": {
      "text/plain": [
       "True"
      ]
     },
     "execution_count": 12,
     "metadata": {},
     "output_type": "execute_result"
    }
   ],
   "source": [
    "# Check if an element is in list\n",
    "'Akhila' in students"
   ]
  }
 ],
 "metadata": {
  "kernelspec": {
   "display_name": "Python 3 (ipykernel)",
   "language": "python",
   "name": "python3"
  },
  "language_info": {
   "codemirror_mode": {
    "name": "ipython",
    "version": 3
   },
   "file_extension": ".py",
   "mimetype": "text/x-python",
   "name": "python",
   "nbconvert_exporter": "python",
   "pygments_lexer": "ipython3",
   "version": "3.9.7"
  }
 },
 "nbformat": 4,
 "nbformat_minor": 5
}
