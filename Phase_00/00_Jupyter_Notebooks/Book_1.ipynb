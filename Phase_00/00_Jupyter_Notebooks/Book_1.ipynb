{
 "cells": [
  {
   "cell_type": "markdown",
   "id": "0fda81e6-c51d-4d24-9297-692471c279ba",
   "metadata": {},
   "source": [
    "__Hello there! Today we'll see how to run `shell commands` in jupyter notebooks__"
   ]
  },
  {
   "cell_type": "code",
   "execution_count": 1,
   "id": "734c919f-15a8-49b8-801a-64db0d802728",
   "metadata": {},
   "outputs": [
    {
     "data": {
      "text/plain": [
       "'D:\\\\Code\\\\Data_Science_Bootcamp [TBD]\\\\Phase_00\\\\00_Jupyter_Notebooks'"
      ]
     },
     "execution_count": 1,
     "metadata": {},
     "output_type": "execute_result"
    }
   ],
   "source": [
    "# Print the current working directory path\n",
    "%pwd"
   ]
  },
  {
   "cell_type": "code",
   "execution_count": 2,
   "id": "139770ca-e2c6-48c6-b408-8fa4e0f86adc",
   "metadata": {},
   "outputs": [
    {
     "name": "stdout",
     "output_type": "stream",
     "text": [
      " Volume in drive D has no label.\n",
      " Volume Serial Number is 920F-D4B8\n",
      "\n",
      " Directory of D:\\Code\\Data_Science_Bootcamp [TBD]\\Phase_00\\00_Jupyter_Notebooks\n",
      "\n",
      "09/06/2022  05:32 PM    <DIR>          .\n",
      "09/06/2022  05:32 PM    <DIR>          ..\n",
      "07/13/2022  08:27 AM                 0 .gitkeep\n",
      "09/06/2022  04:56 PM    <DIR>          .ipynb_checkpoints\n",
      "09/06/2022  05:07 PM             8,389 Day_0.ipynb\n",
      "09/06/2022  05:32 PM             5,635 Day_1.ipynb\n",
      "09/06/2022  05:15 PM    <DIR>          dummy_folder\n",
      "07/13/2022  09:11 AM               842 README.md\n",
      "               4 File(s)         14,866 bytes\n",
      "               4 Dir(s)  281,067,061,248 bytes free\n"
     ]
    }
   ],
   "source": [
    "# Show all the files in the current directory\n",
    "%ls"
   ]
  },
  {
   "cell_type": "code",
   "execution_count": 3,
   "id": "1efaa9ec-7c28-4b79-aef5-69bd63cb8bb1",
   "metadata": {},
   "outputs": [
    {
     "name": "stdout",
     "output_type": "stream",
     "text": [
      " Volume in drive D has no label.\n",
      " Volume Serial Number is 920F-D4B8\n",
      "\n",
      " Directory of D:\\Code\\Data_Science_Bootcamp [TBD]\\Phase_00\\00_Jupyter_Notebooks\\dummy_folder\n",
      "\n",
      "09/06/2022  05:15 PM    <DIR>          .\n",
      "09/06/2022  05:15 PM    <DIR>          ..\n",
      "09/06/2022  05:14 PM    <DIR>          .ipynb_checkpoints\n",
      "09/06/2022  05:14 PM               170 dummy_1.txt\n",
      "09/06/2022  05:15 PM               413 dummy_2.txt\n",
      "               2 File(s)            583 bytes\n",
      "               3 Dir(s)  281,067,061,248 bytes free\n"
     ]
    }
   ],
   "source": [
    "# Change the working directory\n",
    "# On the left you can see 'dummy_folder' to which we will change our current directory. \n",
    "# I have added dummy files in them to see them printed here.\n",
    "# You can double click the folder on left and cross check if all the files mentioned below are present there.\n",
    "%ls dummy_folder"
   ]
  },
  {
   "cell_type": "code",
   "execution_count": 4,
   "id": "92ef9c5c-b20e-4ec6-9211-76c00cee7424",
   "metadata": {},
   "outputs": [
    {
     "name": "stdout",
     "output_type": "stream",
     "text": [
      "a\t b\t c\t d\t \n"
     ]
    }
   ],
   "source": [
    "# List all the variables\n",
    "# Since we do not have any variables yet, let us create some.\n",
    "\n",
    "a = 10\n",
    "b = 20\n",
    "c = 30\n",
    "d = 40\n",
    "\n",
    "## Feel free to change the name of the variables to see their names in the output\n",
    "\n",
    "# List all the variables\n",
    "%who"
   ]
  },
  {
   "cell_type": "markdown",
   "id": "3626109d-6411-4dd4-bf9a-73dfa6c42343",
   "metadata": {},
   "source": [
    "__From this we can understand that the `%` operator is used to run shell commands, these are called 'Magic Commands' in jupyter. We can install packages using shell commands which we will be seen in our Python Course__ \n",
    "\n",
    "__We can have `multiple cursors` in the notebook. These are used to change the name of the variable at various instances.__"
   ]
  },
  {
   "cell_type": "code",
   "execution_count": 5,
   "id": "b1ec3a4f-f65e-47f4-ad32-338965b363d3",
   "metadata": {},
   "outputs": [],
   "source": [
    "var_0 = 2\n",
    "var_1 = 1\n",
    "var_2 = 2\n",
    "var_3 = 2\n",
    "var_4 = 2\n",
    "var_5 = 2\n",
    "var_6 = 2\n",
    "var_7 = 2\n",
    "var_8 = 2\n",
    "var_9 = 2"
   ]
  },
  {
   "cell_type": "markdown",
   "id": "34282da1-dcfe-43d2-97ee-07810be6f444",
   "metadata": {},
   "source": [
    "Use Command: Hold `Ctrl` + Multiple `Left Click`s to select multiple lines.\n",
    "\n",
    "Use `Alt` (If Jupyter Notebook), `Ctrl` (If Jupyter Lab).\n",
    "\n",
    "Try Holding `Ctrl` and Click on multiple variables on top, to rename them from `var_0` to `variable_0`, `var_1` to `variable_1` and so on till `var_9`. \n",
    "\n",
    "Try it. It is very intuitive."
   ]
  },
  {
   "cell_type": "markdown",
   "id": "cab1e965-3fb2-4251-bc90-8aed388af34f",
   "metadata": {},
   "source": [
    "__Great, Now that you have understood how jupyter notebook works, Let us get into our next module `Python`.__"
   ]
  },
  {
   "cell_type": "markdown",
   "id": "5a728ff0-2365-4c2f-8e75-de0766b9fa6f",
   "metadata": {},
   "source": [
    "__Till then, Happy Coding!__"
   ]
  }
 ],
 "metadata": {
  "kernelspec": {
   "display_name": "Python 3 (ipykernel)",
   "language": "python",
   "name": "python3"
  },
  "language_info": {
   "codemirror_mode": {
    "name": "ipython",
    "version": 3
   },
   "file_extension": ".py",
   "mimetype": "text/x-python",
   "name": "python",
   "nbconvert_exporter": "python",
   "pygments_lexer": "ipython3",
   "version": "3.9.7"
  }
 },
 "nbformat": 4,
 "nbformat_minor": 5
}
