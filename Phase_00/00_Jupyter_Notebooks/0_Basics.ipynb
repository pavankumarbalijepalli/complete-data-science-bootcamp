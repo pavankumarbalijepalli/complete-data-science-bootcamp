{
 "cells": [
  {
   "cell_type": "markdown",
   "id": "5b1bf5cc-72ee-43d2-8498-8e283ed23777",
   "metadata": {},
   "source": [
    "## Hello! This is a Jupyter Notebook inside a Jupyter Lab."
   ]
  },
  {
   "cell_type": "markdown",
   "id": "c42053d9-6a5b-4ff6-bab1-ab86fc898fb3",
   "metadata": {},
   "source": [
    "__Let us go through some boring but important stuff of Jupyter Notebooks before we run any code__\n",
    "* On the left:\n",
    "    * We have our navigator which allows us to roam around our workspace.\n",
    "    * On top, you can see a `+` which is used to create new notebooks and scripts, open new terminals\n",
    "    * We can also create folders to maintain a well structured workspace.\n",
    "    * We also have a pane on the left showing 4 icons. \n",
    "        * `Folder` icon is the directory navigator.\n",
    "        * `Stop` icon shows the list of notebooks running.\n",
    "        * `List` icon shows the index of contents in the notebook. Used to navigate through the notebook.\n",
    "        * `Jigsaw` icon is the extension manager, used to install extentions to have additional utitlity.\n",
    "        \n",
    "        \n",
    "* On the Top:\n",
    "    * `File` - To save the notebook, download the notebook in various formats, etc.\n",
    "    * `Edit` - To copy paste a cell, delete cells, create new cells. We use shortcuts for most of the operations here.\n",
    "    * `View` - To modify the appearance of the jupyter lab. Addition of panes, Visibility of code, etc.\n",
    "    * `Run` - To Run cells under various conditions. We'll explore more on this soon.\n",
    "    * `Kernel` - To reset the notebook when the code goes takes indefinite time to process.\n",
    "    * `Tabs` - Move between notebooks. I personally use mouse because I'm used to shifting chrome tabs while working.\n",
    "    * `Settings` and `Help` - To modify the working behaviour of the jupyter lab and get help from forums\n",
    "\n",
    "\n",
    "* On the right:\n",
    "    * We have our workspace here, there is nothing much to talk about this space.\n",
    "    * On the right side of the workspace you see `Python 3 (ipykernel)`. This is used to change the version of the python if we are working on older versions.\n",
    "---"
   ]
  },
  {
   "cell_type": "code",
   "execution_count": 1,
   "id": "6f153e61-6250-4036-96d8-52c1c8b9219f",
   "metadata": {},
   "outputs": [],
   "source": [
    "# This is called a jupyter cell.\n",
    "# Here we write our python code."
   ]
  },
  {
   "cell_type": "markdown",
   "id": "6e5e1372-7eb0-4655-ac88-c06d8d60f4c3",
   "metadata": {},
   "source": [
    "In order to run a cell type `Shift` + `Enter`"
   ]
  },
  {
   "cell_type": "code",
   "execution_count": 2,
   "id": "9d0a599b-0c27-4cf3-bf72-7ad6846d62d5",
   "metadata": {},
   "outputs": [
    {
     "name": "stdout",
     "output_type": "stream",
     "text": [
      "I love learning!\n"
     ]
    }
   ],
   "source": [
    "# Try running this cell\n",
    "print(\"I love learning!\")"
   ]
  },
  {
   "cell_type": "markdown",
   "id": "d86f3b61-ca2f-45fa-ae21-389a91b7a9ad",
   "metadata": {},
   "source": [
    "On top you see the text being printed. The print statements in a cell are printed out like this. Now let's try something else "
   ]
  },
  {
   "cell_type": "code",
   "execution_count": 3,
   "id": "05c0bd64-a231-47b9-81c0-ab4ad79d44ab",
   "metadata": {},
   "outputs": [
    {
     "data": {
      "text/plain": [
       "'I love learning!'"
      ]
     },
     "execution_count": 3,
     "metadata": {},
     "output_type": "execute_result"
    }
   ],
   "source": [
    "\"I love learning!\""
   ]
  },
  {
   "cell_type": "markdown",
   "id": "9cd79c80-650e-4898-bc17-43db22d7f1e7",
   "metadata": {},
   "source": [
    "Here you see there is a cell number beside the text we have passed. That is because it is not a print statement but an output of the cell. \n",
    "Since we just sent the text in quotations, it will consider that as the output of the cell.\n",
    "\n",
    "Similarly, we can give any alpha numeric value as output for the cell. Run the below cells to see."
   ]
  },
  {
   "cell_type": "code",
   "execution_count": 4,
   "id": "81d0ac56-0e84-45d3-8058-2ef5101f6f56",
   "metadata": {},
   "outputs": [
    {
     "data": {
      "text/plain": [
       "5"
      ]
     },
     "execution_count": 4,
     "metadata": {},
     "output_type": "execute_result"
    }
   ],
   "source": [
    "5"
   ]
  },
  {
   "cell_type": "code",
   "execution_count": 5,
   "id": "487d3f43-b80f-4489-88a1-9e5b8f2c1ad8",
   "metadata": {},
   "outputs": [
    {
     "data": {
      "text/plain": [
       "'abc'"
      ]
     },
     "execution_count": 5,
     "metadata": {},
     "output_type": "execute_result"
    }
   ],
   "source": [
    "'abc'"
   ]
  },
  {
   "cell_type": "code",
   "execution_count": 6,
   "id": "4dfd339e-74c8-413c-8c3f-27a89d46ca1d",
   "metadata": {},
   "outputs": [
    {
     "data": {
      "text/plain": [
       "10"
      ]
     },
     "execution_count": 6,
     "metadata": {},
     "output_type": "execute_result"
    }
   ],
   "source": [
    "a = 10\n",
    "a"
   ]
  },
  {
   "cell_type": "code",
   "execution_count": 7,
   "id": "70f3bc41-64df-4d06-9384-2449d8b29daa",
   "metadata": {},
   "outputs": [
    {
     "data": {
      "text/plain": [
       "11.87698"
      ]
     },
     "execution_count": 7,
     "metadata": {},
     "output_type": "execute_result"
    }
   ],
   "source": [
    "11.87698"
   ]
  },
  {
   "cell_type": "code",
   "execution_count": 8,
   "id": "f3e10660-5279-42a6-8e65-d6be3812293a",
   "metadata": {},
   "outputs": [
    {
     "data": {
      "text/plain": [
       "'abcdefgh'"
      ]
     },
     "execution_count": 8,
     "metadata": {},
     "output_type": "execute_result"
    }
   ],
   "source": [
    "b = 'abcdefgh'\n",
    "b"
   ]
  },
  {
   "cell_type": "markdown",
   "id": "6d31cb51-8e14-4e00-88fa-d886feb7561b",
   "metadata": {},
   "source": [
    "If we want to hide the output and only have the print statements, we can add a `;` at the end to supress the output."
   ]
  },
  {
   "cell_type": "code",
   "execution_count": 9,
   "id": "f1227251-0621-45ac-8f47-757217a7bd9d",
   "metadata": {},
   "outputs": [],
   "source": [
    "5;"
   ]
  },
  {
   "cell_type": "code",
   "execution_count": 10,
   "id": "98799a9b-fa32-4bc3-b458-be31d073be78",
   "metadata": {},
   "outputs": [],
   "source": [
    "'abc';"
   ]
  },
  {
   "cell_type": "code",
   "execution_count": 11,
   "id": "030b3bad-cebc-40ef-bdd9-6155af931a63",
   "metadata": {},
   "outputs": [],
   "source": [
    "a = 10\n",
    "a;"
   ]
  },
  {
   "cell_type": "code",
   "execution_count": 12,
   "id": "767c43f8-5ba5-44ce-9f7b-e5ead9733efa",
   "metadata": {},
   "outputs": [],
   "source": [
    "11.87698;"
   ]
  },
  {
   "cell_type": "code",
   "execution_count": 13,
   "id": "47a83125-9406-4858-8988-a5439a02709b",
   "metadata": {},
   "outputs": [],
   "source": [
    "b = 'abcdefgh'\n",
    "b;"
   ]
  },
  {
   "cell_type": "markdown",
   "id": "d3537185-bc47-4c1a-ac7a-e0f144a924fd",
   "metadata": {},
   "source": [
    "Here, we see that there is no cell output."
   ]
  },
  {
   "cell_type": "markdown",
   "id": "cbbc6672-865e-43cf-b806-658ea3025afc",
   "metadata": {
    "jp-MarkdownHeadingCollapsed": true,
    "tags": []
   },
   "source": [
    "__Great, Now that you have understood how jupyter notebook works, In next notebook, you will see how to run shell commands in jupyter.__"
   ]
  },
  {
   "cell_type": "markdown",
   "id": "cb9ddcab-355b-48af-8229-451e13a4a610",
   "metadata": {},
   "source": [
    "__Till then, Happy Coding!__"
   ]
  }
 ],
 "metadata": {
  "kernelspec": {
   "display_name": "Python 3 (ipykernel)",
   "language": "python",
   "name": "python3"
  },
  "language_info": {
   "codemirror_mode": {
    "name": "ipython",
    "version": 3
   },
   "file_extension": ".py",
   "mimetype": "text/x-python",
   "name": "python",
   "nbconvert_exporter": "python",
   "pygments_lexer": "ipython3",
   "version": "3.9.7"
  }
 },
 "nbformat": 4,
 "nbformat_minor": 5
}
